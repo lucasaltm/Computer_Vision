{
 "cells": [
  {
   "cell_type": "markdown",
   "id": "b21a8965",
   "metadata": {},
   "source": [
    "# Hand Tracking with Mediapipe, OpenCV and WebCam\n",
    "\n",
    "Hand tracking is a field that involves detecting and tracking the movements of human hands in real-time. </br>\n",
    "It has various applications, including gesture recognition, augmented reality, sign language translation, and virtual reality interactions. </br>\n",
    "In this project, we will explore how to implement hand tracking using Python, Mediapipe, OpenCV, and a WebCam.\n",
    "\n",
    "Mediapipe is a powerful library developed by Google that provides a wide range of computer vision solutions, including hand tracking. </br>\n",
    "OpenCV is a popular open-source computer vision library that offers robust tools for image and video processing. </br>\n",
    "By combining these two libraries, we can efficiently detect and track hands in real-time using a webcam feed.\n",
    "\n",
    "\n",
    "\n",
    "## About MediaPipe\n",
    "<b>Output for input image could contains these values:</br>\n",
    "\n",
    "<b>MULTI_HAND_LANDMARKS: Hand coordinates according to image proportion (values from 0 to 1).</br>\n",
    "\n",
    "<b>MULTI_HAND_WORLD_LANDMARKS: Real-world coordinates, in meters.</br>\n",
    "\n",
    "<b>MULTI_HANDEDNESS: Hand side information (right or left) & accuracy probability."
   ]
  },
  {
   "cell_type": "code",
   "execution_count": 1,
   "id": "3cec017d",
   "metadata": {},
   "outputs": [
    {
     "data": {
      "text/plain": [
       "True"
      ]
     },
     "execution_count": 1,
     "metadata": {},
     "output_type": "execute_result"
    }
   ],
   "source": [
    "import cv2\n",
    "import mediapipe as mp\n",
    "from IPython.display import clear_output\n",
    "\n",
    "mp_hands = mp.solutions.hands\n",
    "mp_drawing = mp.solutions.drawing_utils\n",
    "\n",
    "model_hands = mp_hands.Hands()\n",
    "\n",
    "camera = cv2.VideoCapture(0)\n",
    "x, y = 1280, 720\n",
    "camera.set(cv2.CAP_PROP_FRAME_WIDTH, x)\n",
    "camera.set(cv2.CAP_PROP_FRAME_HEIGHT, y)"
   ]
  },
  {
   "cell_type": "code",
   "execution_count": 3,
   "id": "bb0a3299",
   "metadata": {},
   "outputs": [],
   "source": [
    "def find_hands (img):\n",
    "    img_rgb = cv2.cvtColor(img, cv2.COLOR_BGR2RGB)\n",
    "    res = model_hands.process(img_rgb)\n",
    "    \n",
    "    all_hands = []\n",
    "    if res.multi_hand_landmarks:\n",
    "        for handedness, hand_landmark in zip(res.multi_handedness, res.multi_hand_landmarks):\n",
    "            mp_drawing.draw_landmarks(img, hand_landmark, mp_hands.HAND_CONNECTIONS)\n",
    "            \n",
    "            hand_info = {}\n",
    "            coordinates = []\n",
    "            \n",
    "            for dots in hand_landmark.landmark:\n",
    "                coord_x, coord_y, coord_z = int(dots.x * x), int(dots.y * y), int(dots.z * x)\n",
    "                coordinates.append((coord_x, coord_y, coord_z))\n",
    "            \n",
    "            hand_info['coordinates'] = coordinates\n",
    "            hand_info['handedness'] = handedness.classification[0].label\n",
    "            #print(handedness.classification[0].label)\n",
    "            \n",
    "            all_hands.append(hand_info)\n",
    "    \n",
    "    return img, all_hands"
   ]
  },
  {
   "cell_type": "code",
   "execution_count": 4,
   "id": "b14b2c01",
   "metadata": {},
   "outputs": [],
   "source": [
    "def isFingerRaised (hand):\n",
    "    fingers = []\n",
    "    \n",
    "    for tip in [8,12,16,20]:\n",
    "        if ((hand['coordinates'][tip][1]) < (hand['coordinates'][tip-2][1])): #tip-2 = pip:\n",
    "            fingers.append(True)\n",
    "        else:\n",
    "            fingers.append(False)\n",
    "            \n",
    "    return fingers"
   ]
  },
  {
   "cell_type": "code",
   "execution_count": null,
   "id": "b5537992",
   "metadata": {
    "scrolled": false
   },
   "outputs": [
    {
     "name": "stdout",
     "output_type": "stream",
     "text": [
      "Hand 0:\n",
      "Left\n",
      "0: (1229, 541, 0)\n",
      "1: (1259, 466, -60)\n",
      "2: (1223, 383, -84)\n",
      "3: (1130, 392, -105)\n",
      "4: (1049, 405, -122)\n",
      "5: (1101, 304, -36)\n",
      "6: (1049, 207, -75)\n",
      "7: (1014, 146, -97)\n",
      "8: (981, 98, -108)\n",
      "9: (1050, 350, -36)\n",
      "10: (958, 269, -83)\n",
      "11: (898, 218, -111)\n",
      "12: (845, 180, -120)\n",
      "13: (1029, 411, -43)\n",
      "14: (995, 392, -122)\n",
      "15: (1074, 424, -136)\n",
      "16: (1122, 449, -118)\n",
      "17: (1025, 478, -53)\n",
      "18: (1006, 451, -117)\n",
      "19: (1068, 465, -118)\n",
      "20: (1109, 477, -102)\n",
      "Finger 1 raised.\n",
      "Finger 2 raised.\n",
      "Finger 3 not raised.\n",
      "Finger 4 not raised.\n"
     ]
    }
   ],
   "source": [
    "while True:\n",
    "    s, img = camera.read()\n",
    "    try:\n",
    "        img = cv2.flip(img, 1)\n",
    "        img, all_hands = find_hands(img)\n",
    "        \n",
    "        if (len(all_hands)!=0):\n",
    "            for i in range(len(all_hands)):\n",
    "                #print(all_hands[i])\n",
    "                \n",
    "                print('Hand ' + str(i) + \":\")\n",
    "                \n",
    "                print(all_hands[i]['handedness'])\n",
    "                \n",
    "                for j in range(len(all_hands[i]['coordinates'])):\n",
    "                    print(str(j) + \": \" + str(all_hands[i]['coordinates'][j]))\n",
    "                \n",
    "                \n",
    "                fingers_info = isFingerRaised(all_hands[i])\n",
    "                for j in range (len(fingers_info)):\n",
    "                    if fingers_info[j] == True:\n",
    "                        print('Finger ' + str(j+1) + ' raised.')\n",
    "                    else:\n",
    "                        print('Finger ' + str(j+1) + ' not raised.')\n",
    "                        \n",
    "        cv2.imshow('Camera', img)\n",
    "        \n",
    "    except:\n",
    "        print(\"An exception occurred.\")\n",
    "    key = cv2.waitKey(1)\n",
    "    clear_output(wait=True)\n",
    "    if key == 27:\n",
    "        break;"
   ]
  },
  {
   "cell_type": "markdown",
   "id": "6b688052",
   "metadata": {},
   "source": [
    "<img src=\"hand.png\" />"
   ]
  }
 ],
 "metadata": {
  "kernelspec": {
   "display_name": "Python 3 (ipykernel)",
   "language": "python",
   "name": "python3"
  },
  "language_info": {
   "codemirror_mode": {
    "name": "ipython",
    "version": 3
   },
   "file_extension": ".py",
   "mimetype": "text/x-python",
   "name": "python",
   "nbconvert_exporter": "python",
   "pygments_lexer": "ipython3",
   "version": "3.9.12"
  }
 },
 "nbformat": 4,
 "nbformat_minor": 5
}
